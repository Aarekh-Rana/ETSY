{
 "cells": [
  {
   "cell_type": "code",
   "execution_count": 3,
   "id": "5ae5a3d8",
   "metadata": {},
   "outputs": [],
   "source": [
    "# Import necessary libraries\n",
    "import pandas as pd\n",
    "import numpy as np\n",
    "from pathlib import Path"
   ]
  },
  {
   "cell_type": "code",
   "execution_count": 32,
   "id": "dbdac8d3",
   "metadata": {},
   "outputs": [],
   "source": [
    "train_dir=Path(\"etsydata/train/\")\n",
    "\n",
    "\n"
   ]
  },
  {
   "cell_type": "code",
   "execution_count": 33,
   "id": "fe4e61d1",
   "metadata": {},
   "outputs": [
    {
     "data": {
      "text/plain": [
       "WindowsPath('etsydata/train')"
      ]
     },
     "execution_count": 33,
     "metadata": {},
     "output_type": "execute_result"
    }
   ],
   "source": [
    "train_dir"
   ]
  },
  {
   "cell_type": "code",
   "execution_count": 79,
   "id": "d6308cf4",
   "metadata": {},
   "outputs": [],
   "source": [
    "test_dir=Path(\"etsydata/test/\")\n",
    "\n",
    "\n"
   ]
  },
  {
   "cell_type": "code",
   "execution_count": 11,
   "id": "93b9e074",
   "metadata": {},
   "outputs": [],
   "source": [
    "def read_data(filenames,columns=None):\n",
    "    \"\"\" Read parquet data from mutiple files \"\"\"\n",
    "\n",
    "    dataframes = [\n",
    "\n",
    "        pd.read_parquet(filenames,columns=columns)\n",
    "    ]\n",
    "\n",
    "    return pd.concat(dataframes)\n",
    "columns=[\"primary_color_id\",\"secondary_color_id\",\"title\",\"description\",\"tags\"]\n",
    "\n"
   ]
  },
  {
   "cell_type": "code",
   "execution_count": 34,
   "id": "831dce63",
   "metadata": {},
   "outputs": [],
   "source": [
    "df_train = read_data(train_dir,columns=columns)"
   ]
  },
  {
   "cell_type": "code",
   "execution_count": 13,
   "id": "3d740439",
   "metadata": {},
   "outputs": [],
   "source": [
    "from sklearn.model_selection import train_test_split\n",
    "\n",
    "df_training, df_validation = train_test_split(\n",
    "    df_train,\n",
    "    test_size=0.3,\n",
    "    stratify=df_train['secondary_color_id'],\n",
    "    random_state=42)\n",
    "df_training['combined_text'] = df_training['title'].fillna('') + ' ' + df_training['description'].fillna('') + ' ' + df_training['tags'].fillna('')\n",
    "df_validation['combined_text'] = df_validation['title'].fillna('') + ' ' + df_validation['description'].fillna('') + ' ' + df_validation['tags'].fillna('')"
   ]
  },
  {
   "cell_type": "code",
   "execution_count": 14,
   "id": "6fb8406d",
   "metadata": {},
   "outputs": [],
   "source": [
    "import re\n",
    "from sklearn.feature_extraction.text import TfidfVectorizer\n",
    "from nltk.corpus import stopwords\n",
    "from nltk.stem import WordNetLemmatizer\n",
    "\n",
    "\n",
    "def clean_text(text):\n",
    "    # Remove HTML tags\n",
    "    text = re.sub(r'<.*?>', '', text)\n",
    "    # Remove special characters and digits\n",
    "    text = re.sub(r'[^a-zA-Z\\s]', '', text)\n",
    "    # Convert to lower case\n",
    "    text = text.lower().strip()\n",
    "    return text\n",
    "\n",
    "\n",
    "df_training['combined_text'] = df_training['combined_text'].apply(clean_text)\n",
    "df_validation['combined_text'] = df_validation['combined_text'].apply(clean_text)\n",
    "\n",
    "\n",
    "tfidf_vectorizer = TfidfVectorizer(stop_words='english', max_features=10000)\n",
    "\n",
    "\n",
    "X_train_tfidf = tfidf_vectorizer.fit_transform(df_training['combined_text'])\n",
    "X_val_tfidf = tfidf_vectorizer.transform(df_validation['combined_text'])\n"
   ]
  },
  {
   "cell_type": "code",
   "execution_count": 15,
   "id": "6fbfcd5e",
   "metadata": {},
   "outputs": [],
   "source": [
    "from sklearn.ensemble import RandomForestClassifier\n",
    "\n",
    "rf_clf_optimized = RandomForestClassifier(\n",
    "    n_estimators=300,\n",
    "    max_depth=None,  # 'None' means unlimited depth\n",
    "    min_samples_split=2,\n",
    "    min_samples_leaf=1,\n",
    "    class_weight='balanced',  # Adjust weights inversely proportional to class frequencies\n",
    "    random_state=42\n",
    ")"
   ]
  },
  {
   "cell_type": "code",
   "execution_count": 16,
   "id": "8d07258b",
   "metadata": {},
   "outputs": [
    {
     "data": {
      "text/html": [
       "<style>#sk-container-id-1 {color: black;}#sk-container-id-1 pre{padding: 0;}#sk-container-id-1 div.sk-toggleable {background-color: white;}#sk-container-id-1 label.sk-toggleable__label {cursor: pointer;display: block;width: 100%;margin-bottom: 0;padding: 0.3em;box-sizing: border-box;text-align: center;}#sk-container-id-1 label.sk-toggleable__label-arrow:before {content: \"▸\";float: left;margin-right: 0.25em;color: #696969;}#sk-container-id-1 label.sk-toggleable__label-arrow:hover:before {color: black;}#sk-container-id-1 div.sk-estimator:hover label.sk-toggleable__label-arrow:before {color: black;}#sk-container-id-1 div.sk-toggleable__content {max-height: 0;max-width: 0;overflow: hidden;text-align: left;background-color: #f0f8ff;}#sk-container-id-1 div.sk-toggleable__content pre {margin: 0.2em;color: black;border-radius: 0.25em;background-color: #f0f8ff;}#sk-container-id-1 input.sk-toggleable__control:checked~div.sk-toggleable__content {max-height: 200px;max-width: 100%;overflow: auto;}#sk-container-id-1 input.sk-toggleable__control:checked~label.sk-toggleable__label-arrow:before {content: \"▾\";}#sk-container-id-1 div.sk-estimator input.sk-toggleable__control:checked~label.sk-toggleable__label {background-color: #d4ebff;}#sk-container-id-1 div.sk-label input.sk-toggleable__control:checked~label.sk-toggleable__label {background-color: #d4ebff;}#sk-container-id-1 input.sk-hidden--visually {border: 0;clip: rect(1px 1px 1px 1px);clip: rect(1px, 1px, 1px, 1px);height: 1px;margin: -1px;overflow: hidden;padding: 0;position: absolute;width: 1px;}#sk-container-id-1 div.sk-estimator {font-family: monospace;background-color: #f0f8ff;border: 1px dotted black;border-radius: 0.25em;box-sizing: border-box;margin-bottom: 0.5em;}#sk-container-id-1 div.sk-estimator:hover {background-color: #d4ebff;}#sk-container-id-1 div.sk-parallel-item::after {content: \"\";width: 100%;border-bottom: 1px solid gray;flex-grow: 1;}#sk-container-id-1 div.sk-label:hover label.sk-toggleable__label {background-color: #d4ebff;}#sk-container-id-1 div.sk-serial::before {content: \"\";position: absolute;border-left: 1px solid gray;box-sizing: border-box;top: 0;bottom: 0;left: 50%;z-index: 0;}#sk-container-id-1 div.sk-serial {display: flex;flex-direction: column;align-items: center;background-color: white;padding-right: 0.2em;padding-left: 0.2em;position: relative;}#sk-container-id-1 div.sk-item {position: relative;z-index: 1;}#sk-container-id-1 div.sk-parallel {display: flex;align-items: stretch;justify-content: center;background-color: white;position: relative;}#sk-container-id-1 div.sk-item::before, #sk-container-id-1 div.sk-parallel-item::before {content: \"\";position: absolute;border-left: 1px solid gray;box-sizing: border-box;top: 0;bottom: 0;left: 50%;z-index: -1;}#sk-container-id-1 div.sk-parallel-item {display: flex;flex-direction: column;z-index: 1;position: relative;background-color: white;}#sk-container-id-1 div.sk-parallel-item:first-child::after {align-self: flex-end;width: 50%;}#sk-container-id-1 div.sk-parallel-item:last-child::after {align-self: flex-start;width: 50%;}#sk-container-id-1 div.sk-parallel-item:only-child::after {width: 0;}#sk-container-id-1 div.sk-dashed-wrapped {border: 1px dashed gray;margin: 0 0.4em 0.5em 0.4em;box-sizing: border-box;padding-bottom: 0.4em;background-color: white;}#sk-container-id-1 div.sk-label label {font-family: monospace;font-weight: bold;display: inline-block;line-height: 1.2em;}#sk-container-id-1 div.sk-label-container {text-align: center;}#sk-container-id-1 div.sk-container {/* jupyter's `normalize.less` sets `[hidden] { display: none; }` but bootstrap.min.css set `[hidden] { display: none !important; }` so we also need the `!important` here to be able to override the default hidden behavior on the sphinx rendered scikit-learn.org. See: https://github.com/scikit-learn/scikit-learn/issues/21755 */display: inline-block !important;position: relative;}#sk-container-id-1 div.sk-text-repr-fallback {display: none;}</style><div id=\"sk-container-id-1\" class=\"sk-top-container\"><div class=\"sk-text-repr-fallback\"><pre>RandomForestClassifier(class_weight=&#x27;balanced&#x27;, n_estimators=300,\n",
       "                       random_state=42)</pre><b>In a Jupyter environment, please rerun this cell to show the HTML representation or trust the notebook. <br />On GitHub, the HTML representation is unable to render, please try loading this page with nbviewer.org.</b></div><div class=\"sk-container\" hidden><div class=\"sk-item\"><div class=\"sk-estimator sk-toggleable\"><input class=\"sk-toggleable__control sk-hidden--visually\" id=\"sk-estimator-id-1\" type=\"checkbox\" checked><label for=\"sk-estimator-id-1\" class=\"sk-toggleable__label sk-toggleable__label-arrow\">RandomForestClassifier</label><div class=\"sk-toggleable__content\"><pre>RandomForestClassifier(class_weight=&#x27;balanced&#x27;, n_estimators=300,\n",
       "                       random_state=42)</pre></div></div></div></div></div>"
      ],
      "text/plain": [
       "RandomForestClassifier(class_weight='balanced', n_estimators=300,\n",
       "                       random_state=42)"
      ]
     },
     "execution_count": 16,
     "metadata": {},
     "output_type": "execute_result"
    }
   ],
   "source": [
    "rf_clf_optimized.fit(X_train_tfidf, df_training['secondary_color_id'])"
   ]
  },
  {
   "cell_type": "code",
   "execution_count": 36,
   "id": "cbd73cc7",
   "metadata": {},
   "outputs": [],
   "source": [
    "pred_secondary=rf_clf_optimized.predict(X_val_tfidf)"
   ]
  },
  {
   "cell_type": "code",
   "execution_count": 37,
   "id": "60a3be82",
   "metadata": {},
   "outputs": [
    {
     "name": "stdout",
     "output_type": "stream",
     "text": [
      "F1 Score Random Forest: 0.35341145500987053\n"
     ]
    }
   ],
   "source": [
    "from sklearn.metrics import f1_score\n",
    "print(\"F1 Score Random Forest:\", f1_score(df_validation['secondary_color_id'], pred_secondary, average='weighted'))"
   ]
  },
  {
   "cell_type": "code",
   "execution_count": 49,
   "id": "efc25427",
   "metadata": {},
   "outputs": [],
   "source": [
    "from sklearn import metrics"
   ]
  },
  {
   "cell_type": "code",
   "execution_count": 50,
   "id": "838ffb52",
   "metadata": {},
   "outputs": [
    {
     "name": "stdout",
     "output_type": "stream",
     "text": [
      "              precision    recall  f1-score   support\n",
      "\n",
      "           0       0.47      0.20      0.28      3096\n",
      "           1       0.36      0.41      0.38      8931\n",
      "           2       0.34      0.21      0.26      5264\n",
      "           3       0.46      0.26      0.33       839\n",
      "           4       0.37      0.37      0.37      4843\n",
      "           5       0.54      0.33      0.41      1345\n",
      "           6       0.51      0.31      0.38       546\n",
      "           7       0.45      0.57      0.50      4518\n",
      "           9       0.35      0.25      0.30      4680\n",
      "          10       0.32      0.24      0.28      1841\n",
      "          11       0.36      0.30      0.33      3853\n",
      "          12       0.30      0.23      0.26      1712\n",
      "          13       0.39      0.27      0.32      1826\n",
      "          14       0.35      0.24      0.29      4575\n",
      "          15       0.75      0.19      0.31       352\n",
      "          16       0.48      0.53      0.50      4054\n",
      "          17       0.30      0.55      0.39     11200\n",
      "          18       0.36      0.21      0.27      2768\n",
      "          19       0.42      0.26      0.32      2645\n",
      "\n",
      "    accuracy                           0.36     68888\n",
      "   macro avg       0.42      0.31      0.34     68888\n",
      "weighted avg       0.38      0.36      0.35     68888\n",
      "\n"
     ]
    }
   ],
   "source": [
    "print(metrics.classification_report(df_validation['secondary_color_id'], pred_secondary))"
   ]
  },
  {
   "cell_type": "code",
   "execution_count": 42,
   "id": "75515793",
   "metadata": {},
   "outputs": [],
   "source": [
    "dfpredctionsec=pd.DataFrame()"
   ]
  },
  {
   "cell_type": "code",
   "execution_count": 44,
   "id": "5c11c9b7",
   "metadata": {},
   "outputs": [],
   "source": [
    "dfpredctionsec[\"secondary_color_id\"]=pred_secondary"
   ]
  },
  {
   "cell_type": "code",
   "execution_count": 45,
   "id": "06efd2cb",
   "metadata": {},
   "outputs": [],
   "source": [
    "import pyarrow as pa\n",
    "import pyarrow.parquet as pq"
   ]
  },
  {
   "cell_type": "code",
   "execution_count": 61,
   "id": "d8f8a162",
   "metadata": {},
   "outputs": [],
   "source": [
    "dfpredctionsec.to_csv('AArekh_sec.csv', index=False)"
   ]
  },
  {
   "cell_type": "code",
   "execution_count": 58,
   "id": "c5a60b69",
   "metadata": {},
   "outputs": [
    {
     "data": {
      "text/html": [
       "<div>\n",
       "<style scoped>\n",
       "    .dataframe tbody tr th:only-of-type {\n",
       "        vertical-align: middle;\n",
       "    }\n",
       "\n",
       "    .dataframe tbody tr th {\n",
       "        vertical-align: top;\n",
       "    }\n",
       "\n",
       "    .dataframe thead th {\n",
       "        text-align: right;\n",
       "    }\n",
       "</style>\n",
       "<table border=\"1\" class=\"dataframe\">\n",
       "  <thead>\n",
       "    <tr style=\"text-align: right;\">\n",
       "      <th></th>\n",
       "      <th>secondary_color_id</th>\n",
       "    </tr>\n",
       "  </thead>\n",
       "  <tbody>\n",
       "    <tr>\n",
       "      <th>0</th>\n",
       "      <td>7</td>\n",
       "    </tr>\n",
       "    <tr>\n",
       "      <th>1</th>\n",
       "      <td>2</td>\n",
       "    </tr>\n",
       "    <tr>\n",
       "      <th>2</th>\n",
       "      <td>4</td>\n",
       "    </tr>\n",
       "    <tr>\n",
       "      <th>3</th>\n",
       "      <td>17</td>\n",
       "    </tr>\n",
       "    <tr>\n",
       "      <th>4</th>\n",
       "      <td>17</td>\n",
       "    </tr>\n",
       "    <tr>\n",
       "      <th>...</th>\n",
       "      <td>...</td>\n",
       "    </tr>\n",
       "    <tr>\n",
       "      <th>68883</th>\n",
       "      <td>17</td>\n",
       "    </tr>\n",
       "    <tr>\n",
       "      <th>68884</th>\n",
       "      <td>0</td>\n",
       "    </tr>\n",
       "    <tr>\n",
       "      <th>68885</th>\n",
       "      <td>17</td>\n",
       "    </tr>\n",
       "    <tr>\n",
       "      <th>68886</th>\n",
       "      <td>4</td>\n",
       "    </tr>\n",
       "    <tr>\n",
       "      <th>68887</th>\n",
       "      <td>11</td>\n",
       "    </tr>\n",
       "  </tbody>\n",
       "</table>\n",
       "<p>68888 rows × 1 columns</p>\n",
       "</div>"
      ],
      "text/plain": [
       "       secondary_color_id\n",
       "0                       7\n",
       "1                       2\n",
       "2                       4\n",
       "3                      17\n",
       "4                      17\n",
       "...                   ...\n",
       "68883                  17\n",
       "68884                   0\n",
       "68885                  17\n",
       "68886                   4\n",
       "68887                  11\n",
       "\n",
       "[68888 rows x 1 columns]"
      ]
     },
     "execution_count": 58,
     "metadata": {},
     "output_type": "execute_result"
    }
   ],
   "source": [
    "dfpredctionsec"
   ]
  },
  {
   "cell_type": "code",
   "execution_count": 22,
   "id": "72136ca4",
   "metadata": {},
   "outputs": [
    {
     "data": {
      "text/html": [
       "<style>#sk-container-id-2 {color: black;}#sk-container-id-2 pre{padding: 0;}#sk-container-id-2 div.sk-toggleable {background-color: white;}#sk-container-id-2 label.sk-toggleable__label {cursor: pointer;display: block;width: 100%;margin-bottom: 0;padding: 0.3em;box-sizing: border-box;text-align: center;}#sk-container-id-2 label.sk-toggleable__label-arrow:before {content: \"▸\";float: left;margin-right: 0.25em;color: #696969;}#sk-container-id-2 label.sk-toggleable__label-arrow:hover:before {color: black;}#sk-container-id-2 div.sk-estimator:hover label.sk-toggleable__label-arrow:before {color: black;}#sk-container-id-2 div.sk-toggleable__content {max-height: 0;max-width: 0;overflow: hidden;text-align: left;background-color: #f0f8ff;}#sk-container-id-2 div.sk-toggleable__content pre {margin: 0.2em;color: black;border-radius: 0.25em;background-color: #f0f8ff;}#sk-container-id-2 input.sk-toggleable__control:checked~div.sk-toggleable__content {max-height: 200px;max-width: 100%;overflow: auto;}#sk-container-id-2 input.sk-toggleable__control:checked~label.sk-toggleable__label-arrow:before {content: \"▾\";}#sk-container-id-2 div.sk-estimator input.sk-toggleable__control:checked~label.sk-toggleable__label {background-color: #d4ebff;}#sk-container-id-2 div.sk-label input.sk-toggleable__control:checked~label.sk-toggleable__label {background-color: #d4ebff;}#sk-container-id-2 input.sk-hidden--visually {border: 0;clip: rect(1px 1px 1px 1px);clip: rect(1px, 1px, 1px, 1px);height: 1px;margin: -1px;overflow: hidden;padding: 0;position: absolute;width: 1px;}#sk-container-id-2 div.sk-estimator {font-family: monospace;background-color: #f0f8ff;border: 1px dotted black;border-radius: 0.25em;box-sizing: border-box;margin-bottom: 0.5em;}#sk-container-id-2 div.sk-estimator:hover {background-color: #d4ebff;}#sk-container-id-2 div.sk-parallel-item::after {content: \"\";width: 100%;border-bottom: 1px solid gray;flex-grow: 1;}#sk-container-id-2 div.sk-label:hover label.sk-toggleable__label {background-color: #d4ebff;}#sk-container-id-2 div.sk-serial::before {content: \"\";position: absolute;border-left: 1px solid gray;box-sizing: border-box;top: 0;bottom: 0;left: 50%;z-index: 0;}#sk-container-id-2 div.sk-serial {display: flex;flex-direction: column;align-items: center;background-color: white;padding-right: 0.2em;padding-left: 0.2em;position: relative;}#sk-container-id-2 div.sk-item {position: relative;z-index: 1;}#sk-container-id-2 div.sk-parallel {display: flex;align-items: stretch;justify-content: center;background-color: white;position: relative;}#sk-container-id-2 div.sk-item::before, #sk-container-id-2 div.sk-parallel-item::before {content: \"\";position: absolute;border-left: 1px solid gray;box-sizing: border-box;top: 0;bottom: 0;left: 50%;z-index: -1;}#sk-container-id-2 div.sk-parallel-item {display: flex;flex-direction: column;z-index: 1;position: relative;background-color: white;}#sk-container-id-2 div.sk-parallel-item:first-child::after {align-self: flex-end;width: 50%;}#sk-container-id-2 div.sk-parallel-item:last-child::after {align-self: flex-start;width: 50%;}#sk-container-id-2 div.sk-parallel-item:only-child::after {width: 0;}#sk-container-id-2 div.sk-dashed-wrapped {border: 1px dashed gray;margin: 0 0.4em 0.5em 0.4em;box-sizing: border-box;padding-bottom: 0.4em;background-color: white;}#sk-container-id-2 div.sk-label label {font-family: monospace;font-weight: bold;display: inline-block;line-height: 1.2em;}#sk-container-id-2 div.sk-label-container {text-align: center;}#sk-container-id-2 div.sk-container {/* jupyter's `normalize.less` sets `[hidden] { display: none; }` but bootstrap.min.css set `[hidden] { display: none !important; }` so we also need the `!important` here to be able to override the default hidden behavior on the sphinx rendered scikit-learn.org. See: https://github.com/scikit-learn/scikit-learn/issues/21755 */display: inline-block !important;position: relative;}#sk-container-id-2 div.sk-text-repr-fallback {display: none;}</style><div id=\"sk-container-id-2\" class=\"sk-top-container\"><div class=\"sk-text-repr-fallback\"><pre>RandomForestClassifier(class_weight=&#x27;balanced&#x27;, n_estimators=300,\n",
       "                       random_state=42)</pre><b>In a Jupyter environment, please rerun this cell to show the HTML representation or trust the notebook. <br />On GitHub, the HTML representation is unable to render, please try loading this page with nbviewer.org.</b></div><div class=\"sk-container\" hidden><div class=\"sk-item\"><div class=\"sk-estimator sk-toggleable\"><input class=\"sk-toggleable__control sk-hidden--visually\" id=\"sk-estimator-id-2\" type=\"checkbox\" checked><label for=\"sk-estimator-id-2\" class=\"sk-toggleable__label sk-toggleable__label-arrow\">RandomForestClassifier</label><div class=\"sk-toggleable__content\"><pre>RandomForestClassifier(class_weight=&#x27;balanced&#x27;, n_estimators=300,\n",
       "                       random_state=42)</pre></div></div></div></div></div>"
      ],
      "text/plain": [
       "RandomForestClassifier(class_weight='balanced', n_estimators=300,\n",
       "                       random_state=42)"
      ]
     },
     "execution_count": 22,
     "metadata": {},
     "output_type": "execute_result"
    }
   ],
   "source": [
    "from sklearn.ensemble import RandomForestClassifier\n",
    "\n",
    "rf_clf_optimized_ = RandomForestClassifier(\n",
    "    n_estimators=300,\n",
    "    max_depth=None,  # 'None' means unlimited depth\n",
    "    min_samples_split=2,\n",
    "    min_samples_leaf=1,\n",
    "    class_weight='balanced',  # Adjust weights inversely proportional to class frequencies\n",
    "    random_state=42\n",
    ")\n",
    "rf_clf_optimized_.fit(X_train_tfidf, df_training['primary_color_id'])"
   ]
  },
  {
   "cell_type": "code",
   "execution_count": 47,
   "id": "24c2efcf",
   "metadata": {},
   "outputs": [],
   "source": [
    "predtop=rf_clf_optimized_.predict(X_val_tfidf)"
   ]
  },
  {
   "cell_type": "code",
   "execution_count": 51,
   "id": "836ba3a9",
   "metadata": {
    "scrolled": true
   },
   "outputs": [
    {
     "name": "stdout",
     "output_type": "stream",
     "text": [
      "F1 Score Random Forest: 0.4802996906340763\n"
     ]
    }
   ],
   "source": [
    "from sklearn.metrics import f1_score\n",
    "print(\"F1 Score Random Forest:\", f1_score(df_validation['primary_color_id'], predtop, average='weighted'))"
   ]
  },
  {
   "cell_type": "code",
   "execution_count": 52,
   "id": "091c0576",
   "metadata": {},
   "outputs": [
    {
     "name": "stdout",
     "output_type": "stream",
     "text": [
      "              precision    recall  f1-score   support\n",
      "\n",
      "           0       0.22      0.13      0.16      3096\n",
      "           1       0.24      0.33      0.27      8931\n",
      "           2       0.20      0.39      0.26      5264\n",
      "           3       0.26      0.13      0.17       839\n",
      "           4       0.25      0.34      0.29      4843\n",
      "           5       0.28      0.23      0.25      1345\n",
      "           6       0.28      0.25      0.27       546\n",
      "           7       0.34      0.21      0.26      4518\n",
      "           9       0.26      0.19      0.22      4680\n",
      "          10       0.25      0.18      0.21      1841\n",
      "          11       0.27      0.34      0.30      3853\n",
      "          12       0.25      0.24      0.24      1712\n",
      "          13       0.31      0.14      0.20      1826\n",
      "          14       0.25      0.23      0.24      4575\n",
      "          15       0.11      0.02      0.03       352\n",
      "          16       0.36      0.30      0.33      4054\n",
      "          17       0.23      0.20      0.22     11200\n",
      "          18       0.23      0.11      0.15      2768\n",
      "          19       0.24      0.18      0.20      2645\n",
      "\n",
      "    accuracy                           0.25     68888\n",
      "   macro avg       0.25      0.22      0.22     68888\n",
      "weighted avg       0.25      0.25      0.24     68888\n",
      "\n"
     ]
    }
   ],
   "source": [
    "print(metrics.classification_report(df_validation['secondary_color_id'], predtop))"
   ]
  },
  {
   "cell_type": "code",
   "execution_count": 56,
   "id": "49a364f0",
   "metadata": {},
   "outputs": [],
   "source": [
    "dfpredctionprim.to_csv('AArekh_prim.csv', index=False)"
   ]
  },
  {
   "cell_type": "code",
   "execution_count": 64,
   "id": "d9c181c5",
   "metadata": {},
   "outputs": [],
   "source": [
    "df_top=pd.read_csv('aarekh_etsy.csv')"
   ]
  },
  {
   "cell_type": "code",
   "execution_count": 70,
   "id": "b3e47471",
   "metadata": {},
   "outputs": [],
   "source": [
    "bottom_values=df_bot.values"
   ]
  },
  {
   "cell_type": "code",
   "execution_count": 71,
   "id": "2949231a",
   "metadata": {},
   "outputs": [
    {
     "data": {
      "text/plain": [
       "array([[1279],\n",
       "       [6407],\n",
       "       [6404],\n",
       "       ...,\n",
       "       [9183],\n",
       "       [9183],\n",
       "       [9183]], dtype=int64)"
      ]
     },
     "execution_count": 71,
     "metadata": {},
     "output_type": "execute_result"
    }
   ],
   "source": [
    "bottom_values"
   ]
  },
  {
   "cell_type": "code",
   "execution_count": 72,
   "id": "cf8b2ba1",
   "metadata": {},
   "outputs": [],
   "source": [
    "df_top['bottom_category_id']=bottom_values"
   ]
  },
  {
   "cell_type": "code",
   "execution_count": 73,
   "id": "755001d5",
   "metadata": {},
   "outputs": [
    {
     "data": {
      "text/html": [
       "<div>\n",
       "<style scoped>\n",
       "    .dataframe tbody tr th:only-of-type {\n",
       "        vertical-align: middle;\n",
       "    }\n",
       "\n",
       "    .dataframe tbody tr th {\n",
       "        vertical-align: top;\n",
       "    }\n",
       "\n",
       "    .dataframe thead th {\n",
       "        text-align: right;\n",
       "    }\n",
       "</style>\n",
       "<table border=\"1\" class=\"dataframe\">\n",
       "  <thead>\n",
       "    <tr style=\"text-align: right;\">\n",
       "      <th></th>\n",
       "      <th>top_category_id</th>\n",
       "      <th>bottom_category_id</th>\n",
       "    </tr>\n",
       "  </thead>\n",
       "  <tbody>\n",
       "    <tr>\n",
       "      <th>0</th>\n",
       "      <td>8</td>\n",
       "      <td>1279</td>\n",
       "    </tr>\n",
       "    <tr>\n",
       "      <th>1</th>\n",
       "      <td>8</td>\n",
       "      <td>6407</td>\n",
       "    </tr>\n",
       "    <tr>\n",
       "      <th>2</th>\n",
       "      <td>6</td>\n",
       "      <td>6404</td>\n",
       "    </tr>\n",
       "    <tr>\n",
       "      <th>3</th>\n",
       "      <td>6</td>\n",
       "      <td>6404</td>\n",
       "    </tr>\n",
       "    <tr>\n",
       "      <th>4</th>\n",
       "      <td>6</td>\n",
       "      <td>6404</td>\n",
       "    </tr>\n",
       "    <tr>\n",
       "      <th>...</th>\n",
       "      <td>...</td>\n",
       "      <td>...</td>\n",
       "    </tr>\n",
       "    <tr>\n",
       "      <th>25509</th>\n",
       "      <td>10</td>\n",
       "      <td>9183</td>\n",
       "    </tr>\n",
       "    <tr>\n",
       "      <th>25510</th>\n",
       "      <td>10</td>\n",
       "      <td>9183</td>\n",
       "    </tr>\n",
       "    <tr>\n",
       "      <th>25511</th>\n",
       "      <td>10</td>\n",
       "      <td>9183</td>\n",
       "    </tr>\n",
       "    <tr>\n",
       "      <th>25512</th>\n",
       "      <td>10</td>\n",
       "      <td>9183</td>\n",
       "    </tr>\n",
       "    <tr>\n",
       "      <th>25513</th>\n",
       "      <td>10</td>\n",
       "      <td>9183</td>\n",
       "    </tr>\n",
       "  </tbody>\n",
       "</table>\n",
       "<p>25514 rows × 2 columns</p>\n",
       "</div>"
      ],
      "text/plain": [
       "       top_category_id  bottom_category_id\n",
       "0                    8                1279\n",
       "1                    8                6407\n",
       "2                    6                6404\n",
       "3                    6                6404\n",
       "4                    6                6404\n",
       "...                ...                 ...\n",
       "25509               10                9183\n",
       "25510               10                9183\n",
       "25511               10                9183\n",
       "25512               10                9183\n",
       "25513               10                9183\n",
       "\n",
       "[25514 rows x 2 columns]"
      ]
     },
     "execution_count": 73,
     "metadata": {},
     "output_type": "execute_result"
    }
   ],
   "source": [
    "df_top"
   ]
  },
  {
   "cell_type": "code",
   "execution_count": 67,
   "id": "25094e48",
   "metadata": {},
   "outputs": [],
   "source": [
    "df_bot=pd.read_csv('aarekh_etsy_bottom.csv')"
   ]
  },
  {
   "cell_type": "code",
   "execution_count": 29,
   "id": "4455a2c8",
   "metadata": {},
   "outputs": [
    {
     "data": {
      "text/html": [
       "<style>#sk-container-id-4 {color: black;}#sk-container-id-4 pre{padding: 0;}#sk-container-id-4 div.sk-toggleable {background-color: white;}#sk-container-id-4 label.sk-toggleable__label {cursor: pointer;display: block;width: 100%;margin-bottom: 0;padding: 0.3em;box-sizing: border-box;text-align: center;}#sk-container-id-4 label.sk-toggleable__label-arrow:before {content: \"▸\";float: left;margin-right: 0.25em;color: #696969;}#sk-container-id-4 label.sk-toggleable__label-arrow:hover:before {color: black;}#sk-container-id-4 div.sk-estimator:hover label.sk-toggleable__label-arrow:before {color: black;}#sk-container-id-4 div.sk-toggleable__content {max-height: 0;max-width: 0;overflow: hidden;text-align: left;background-color: #f0f8ff;}#sk-container-id-4 div.sk-toggleable__content pre {margin: 0.2em;color: black;border-radius: 0.25em;background-color: #f0f8ff;}#sk-container-id-4 input.sk-toggleable__control:checked~div.sk-toggleable__content {max-height: 200px;max-width: 100%;overflow: auto;}#sk-container-id-4 input.sk-toggleable__control:checked~label.sk-toggleable__label-arrow:before {content: \"▾\";}#sk-container-id-4 div.sk-estimator input.sk-toggleable__control:checked~label.sk-toggleable__label {background-color: #d4ebff;}#sk-container-id-4 div.sk-label input.sk-toggleable__control:checked~label.sk-toggleable__label {background-color: #d4ebff;}#sk-container-id-4 input.sk-hidden--visually {border: 0;clip: rect(1px 1px 1px 1px);clip: rect(1px, 1px, 1px, 1px);height: 1px;margin: -1px;overflow: hidden;padding: 0;position: absolute;width: 1px;}#sk-container-id-4 div.sk-estimator {font-family: monospace;background-color: #f0f8ff;border: 1px dotted black;border-radius: 0.25em;box-sizing: border-box;margin-bottom: 0.5em;}#sk-container-id-4 div.sk-estimator:hover {background-color: #d4ebff;}#sk-container-id-4 div.sk-parallel-item::after {content: \"\";width: 100%;border-bottom: 1px solid gray;flex-grow: 1;}#sk-container-id-4 div.sk-label:hover label.sk-toggleable__label {background-color: #d4ebff;}#sk-container-id-4 div.sk-serial::before {content: \"\";position: absolute;border-left: 1px solid gray;box-sizing: border-box;top: 0;bottom: 0;left: 50%;z-index: 0;}#sk-container-id-4 div.sk-serial {display: flex;flex-direction: column;align-items: center;background-color: white;padding-right: 0.2em;padding-left: 0.2em;position: relative;}#sk-container-id-4 div.sk-item {position: relative;z-index: 1;}#sk-container-id-4 div.sk-parallel {display: flex;align-items: stretch;justify-content: center;background-color: white;position: relative;}#sk-container-id-4 div.sk-item::before, #sk-container-id-4 div.sk-parallel-item::before {content: \"\";position: absolute;border-left: 1px solid gray;box-sizing: border-box;top: 0;bottom: 0;left: 50%;z-index: -1;}#sk-container-id-4 div.sk-parallel-item {display: flex;flex-direction: column;z-index: 1;position: relative;background-color: white;}#sk-container-id-4 div.sk-parallel-item:first-child::after {align-self: flex-end;width: 50%;}#sk-container-id-4 div.sk-parallel-item:last-child::after {align-self: flex-start;width: 50%;}#sk-container-id-4 div.sk-parallel-item:only-child::after {width: 0;}#sk-container-id-4 div.sk-dashed-wrapped {border: 1px dashed gray;margin: 0 0.4em 0.5em 0.4em;box-sizing: border-box;padding-bottom: 0.4em;background-color: white;}#sk-container-id-4 div.sk-label label {font-family: monospace;font-weight: bold;display: inline-block;line-height: 1.2em;}#sk-container-id-4 div.sk-label-container {text-align: center;}#sk-container-id-4 div.sk-container {/* jupyter's `normalize.less` sets `[hidden] { display: none; }` but bootstrap.min.css set `[hidden] { display: none !important; }` so we also need the `!important` here to be able to override the default hidden behavior on the sphinx rendered scikit-learn.org. See: https://github.com/scikit-learn/scikit-learn/issues/21755 */display: inline-block !important;position: relative;}#sk-container-id-4 div.sk-text-repr-fallback {display: none;}</style><div id=\"sk-container-id-4\" class=\"sk-top-container\"><div class=\"sk-text-repr-fallback\"><pre>RandomForestClassifier(class_weight=&#x27;balanced&#x27;, max_features=&#x27;log2&#x27;,\n",
       "                       min_samples_leaf=2, min_samples_split=4,\n",
       "                       n_estimators=300, random_state=42)</pre><b>In a Jupyter environment, please rerun this cell to show the HTML representation or trust the notebook. <br />On GitHub, the HTML representation is unable to render, please try loading this page with nbviewer.org.</b></div><div class=\"sk-container\" hidden><div class=\"sk-item\"><div class=\"sk-estimator sk-toggleable\"><input class=\"sk-toggleable__control sk-hidden--visually\" id=\"sk-estimator-id-4\" type=\"checkbox\" checked><label for=\"sk-estimator-id-4\" class=\"sk-toggleable__label sk-toggleable__label-arrow\">RandomForestClassifier</label><div class=\"sk-toggleable__content\"><pre>RandomForestClassifier(class_weight=&#x27;balanced&#x27;, max_features=&#x27;log2&#x27;,\n",
       "                       min_samples_leaf=2, min_samples_split=4,\n",
       "                       n_estimators=300, random_state=42)</pre></div></div></div></div></div>"
      ],
      "text/plain": [
       "RandomForestClassifier(class_weight='balanced', max_features='log2',\n",
       "                       min_samples_leaf=2, min_samples_split=4,\n",
       "                       n_estimators=300, random_state=42)"
      ]
     },
     "execution_count": 29,
     "metadata": {},
     "output_type": "execute_result"
    }
   ],
   "source": [
    " from sklearn.ensemble import RandomForestClassifier\n",
    "\n",
    "rf_clf_optimized_2 = RandomForestClassifier(\n",
    "    n_estimators=300,\n",
    "    max_depth=None,  # 'None' means unlimited depth\n",
    "    min_samples_split=4,\n",
    "    max_features='log2',\n",
    "    min_samples_leaf=2,\n",
    "    class_weight='balanced',  # Adjust weights inversely proportional to class frequencies\n",
    "    random_state=42\n",
    ")\n",
    "rf_clf_optimized_2.fit(X_train_tfidf, df_training['primary_color_id'])"
   ]
  },
  {
   "cell_type": "code",
   "execution_count": 30,
   "id": "5db535c0",
   "metadata": {},
   "outputs": [],
   "source": [
    "preds=rf_clf_optimized_2.predict(X_val_tfidf)"
   ]
  },
  {
   "cell_type": "code",
   "execution_count": 31,
   "id": "67e627a1",
   "metadata": {},
   "outputs": [
    {
     "name": "stdout",
     "output_type": "stream",
     "text": [
      "F1 Score Random Forest: 0.44096207072134025\n"
     ]
    }
   ],
   "source": [
    "print(\"F1 Score Random Forest:\", f1_score(df_validation['primary_color_id'], preds, average='weighted'))"
   ]
  },
  {
   "cell_type": "code",
   "execution_count": 77,
   "id": "af80c053",
   "metadata": {},
   "outputs": [],
   "source": [
    "columns=[\"title\",\"description\",\"tags\",\"type\",\"product_id\"]"
   ]
  },
  {
   "cell_type": "code",
   "execution_count": 80,
   "id": "eebdf69e",
   "metadata": {},
   "outputs": [],
   "source": [
    "df_test = read_data(test_dir,columns=columns)"
   ]
  },
  {
   "cell_type": "code",
   "execution_count": 81,
   "id": "0b48b06d",
   "metadata": {},
   "outputs": [],
   "source": [
    "df_test['combined_text'] = df_test['title'].fillna('') + ' ' + df_test['description'].fillna('') + ' ' + df_test['tags'].fillna('')\n"
   ]
  },
  {
   "cell_type": "code",
   "execution_count": 82,
   "id": "7e3889df",
   "metadata": {},
   "outputs": [],
   "source": [
    "df_test['combined_text'] = df_test['combined_text'].apply(clean_text)"
   ]
  },
  {
   "cell_type": "code",
   "execution_count": 83,
   "id": "6ca68fdd",
   "metadata": {},
   "outputs": [],
   "source": [
    "tfidf_vectorizer = TfidfVectorizer(stop_words='english', max_features=10000)\n",
    "\n",
    "# Fit and transform the combined_text\n",
    "X_test_tfidf = tfidf_vectorizer.fit_transform(df_test['combined_text'])"
   ]
  },
  {
   "cell_type": "code",
   "execution_count": 86,
   "id": "2dc89fd9",
   "metadata": {},
   "outputs": [],
   "source": [
    "predtest_prim=rf_clf_optimized_.predict(X_test_tfidf)"
   ]
  },
  {
   "cell_type": "code",
   "execution_count": 87,
   "id": "f95a8de0",
   "metadata": {},
   "outputs": [],
   "source": [
    "predtest_sec=rf_clf_optimized.predict(X_test_tfidf)"
   ]
  },
  {
   "cell_type": "code",
   "execution_count": 92,
   "id": "262f764b",
   "metadata": {},
   "outputs": [],
   "source": [
    "df_top[\"primary_color_id\"]=predtest_prim"
   ]
  },
  {
   "cell_type": "code",
   "execution_count": 93,
   "id": "caa7543f",
   "metadata": {},
   "outputs": [],
   "source": [
    "df_top[\"secondary_color_id\"]=predtest_sec"
   ]
  },
  {
   "cell_type": "code",
   "execution_count": 95,
   "id": "c2121cf0",
   "metadata": {},
   "outputs": [],
   "source": [
    "df_top[\"product_id\"]=df_test['product_id']"
   ]
  },
  {
   "cell_type": "code",
   "execution_count": 97,
   "id": "4122a486",
   "metadata": {},
   "outputs": [],
   "source": [
    "df=df_top"
   ]
  },
  {
   "cell_type": "code",
   "execution_count": 98,
   "id": "f36ca8e9",
   "metadata": {},
   "outputs": [
    {
     "data": {
      "text/html": [
       "<div>\n",
       "<style scoped>\n",
       "    .dataframe tbody tr th:only-of-type {\n",
       "        vertical-align: middle;\n",
       "    }\n",
       "\n",
       "    .dataframe tbody tr th {\n",
       "        vertical-align: top;\n",
       "    }\n",
       "\n",
       "    .dataframe thead th {\n",
       "        text-align: right;\n",
       "    }\n",
       "</style>\n",
       "<table border=\"1\" class=\"dataframe\">\n",
       "  <thead>\n",
       "    <tr style=\"text-align: right;\">\n",
       "      <th></th>\n",
       "      <th>top_category_id</th>\n",
       "      <th>bottom_category_id</th>\n",
       "      <th>primary_color_id</th>\n",
       "      <th>secondary_color_id</th>\n",
       "      <th>product_id</th>\n",
       "    </tr>\n",
       "  </thead>\n",
       "  <tbody>\n",
       "    <tr>\n",
       "      <th>0</th>\n",
       "      <td>8</td>\n",
       "      <td>1279</td>\n",
       "      <td>12</td>\n",
       "      <td>12</td>\n",
       "      <td>661373440</td>\n",
       "    </tr>\n",
       "    <tr>\n",
       "      <th>1</th>\n",
       "      <td>8</td>\n",
       "      <td>6407</td>\n",
       "      <td>2</td>\n",
       "      <td>17</td>\n",
       "      <td>1501009290</td>\n",
       "    </tr>\n",
       "    <tr>\n",
       "      <th>2</th>\n",
       "      <td>6</td>\n",
       "      <td>6404</td>\n",
       "      <td>9</td>\n",
       "      <td>9</td>\n",
       "      <td>1105447030</td>\n",
       "    </tr>\n",
       "    <tr>\n",
       "      <th>3</th>\n",
       "      <td>6</td>\n",
       "      <td>6404</td>\n",
       "      <td>12</td>\n",
       "      <td>12</td>\n",
       "      <td>1140081090</td>\n",
       "    </tr>\n",
       "    <tr>\n",
       "      <th>4</th>\n",
       "      <td>6</td>\n",
       "      <td>6404</td>\n",
       "      <td>1</td>\n",
       "      <td>17</td>\n",
       "      <td>793448890</td>\n",
       "    </tr>\n",
       "    <tr>\n",
       "      <th>...</th>\n",
       "      <td>...</td>\n",
       "      <td>...</td>\n",
       "      <td>...</td>\n",
       "      <td>...</td>\n",
       "      <td>...</td>\n",
       "    </tr>\n",
       "    <tr>\n",
       "      <th>25509</th>\n",
       "      <td>10</td>\n",
       "      <td>9183</td>\n",
       "      <td>12</td>\n",
       "      <td>12</td>\n",
       "      <td>869022010</td>\n",
       "    </tr>\n",
       "    <tr>\n",
       "      <th>25510</th>\n",
       "      <td>10</td>\n",
       "      <td>9183</td>\n",
       "      <td>12</td>\n",
       "      <td>12</td>\n",
       "      <td>954065860</td>\n",
       "    </tr>\n",
       "    <tr>\n",
       "      <th>25511</th>\n",
       "      <td>10</td>\n",
       "      <td>9183</td>\n",
       "      <td>12</td>\n",
       "      <td>12</td>\n",
       "      <td>1417634130</td>\n",
       "    </tr>\n",
       "    <tr>\n",
       "      <th>25512</th>\n",
       "      <td>10</td>\n",
       "      <td>9183</td>\n",
       "      <td>12</td>\n",
       "      <td>12</td>\n",
       "      <td>942614980</td>\n",
       "    </tr>\n",
       "    <tr>\n",
       "      <th>25513</th>\n",
       "      <td>10</td>\n",
       "      <td>9183</td>\n",
       "      <td>12</td>\n",
       "      <td>12</td>\n",
       "      <td>1200453060</td>\n",
       "    </tr>\n",
       "  </tbody>\n",
       "</table>\n",
       "<p>25514 rows × 5 columns</p>\n",
       "</div>"
      ],
      "text/plain": [
       "       top_category_id  bottom_category_id  primary_color_id  \\\n",
       "0                    8                1279                12   \n",
       "1                    8                6407                 2   \n",
       "2                    6                6404                 9   \n",
       "3                    6                6404                12   \n",
       "4                    6                6404                 1   \n",
       "...                ...                 ...               ...   \n",
       "25509               10                9183                12   \n",
       "25510               10                9183                12   \n",
       "25511               10                9183                12   \n",
       "25512               10                9183                12   \n",
       "25513               10                9183                12   \n",
       "\n",
       "       secondary_color_id  product_id  \n",
       "0                      12   661373440  \n",
       "1                      17  1501009290  \n",
       "2                       9  1105447030  \n",
       "3                      12  1140081090  \n",
       "4                      17   793448890  \n",
       "...                   ...         ...  \n",
       "25509                  12   869022010  \n",
       "25510                  12   954065860  \n",
       "25511                  12  1417634130  \n",
       "25512                  12   942614980  \n",
       "25513                  12  1200453060  \n",
       "\n",
       "[25514 rows x 5 columns]"
      ]
     },
     "execution_count": 98,
     "metadata": {},
     "output_type": "execute_result"
    }
   ],
   "source": [
    "df"
   ]
  },
  {
   "cell_type": "code",
   "execution_count": 99,
   "id": "12fdce19",
   "metadata": {},
   "outputs": [],
   "source": [
    "df.to_csv('Aarekh_etsy.csv', index=False)"
   ]
  },
  {
   "cell_type": "code",
   "execution_count": 100,
   "id": "f47df3eb",
   "metadata": {},
   "outputs": [],
   "source": [
    "table = pa.Table.from_pandas(df)"
   ]
  },
  {
   "cell_type": "code",
   "execution_count": 101,
   "id": "20321b65",
   "metadata": {},
   "outputs": [
    {
     "data": {
      "text/plain": [
       "pyarrow.Table\n",
       "top_category_id: int64\n",
       "bottom_category_id: int64\n",
       "primary_color_id: int64\n",
       "secondary_color_id: int64\n",
       "product_id: int64\n",
       "----\n",
       "top_category_id: [[8,8,6,6,6,...,10,10,10,10,10]]\n",
       "bottom_category_id: [[1279,6407,6404,6404,6404,...,9183,9183,9183,9183,9183]]\n",
       "primary_color_id: [[12,2,9,12,1,...,12,12,12,12,12]]\n",
       "secondary_color_id: [[12,17,9,12,17,...,12,12,12,12,12]]\n",
       "product_id: [[661373440,1501009290,1105447030,1140081090,793448890,...,869022010,954065860,1417634130,942614980,1200453060]]"
      ]
     },
     "execution_count": 101,
     "metadata": {},
     "output_type": "execute_result"
    }
   ],
   "source": [
    "table"
   ]
  },
  {
   "cell_type": "code",
   "execution_count": 102,
   "id": "0e23e621",
   "metadata": {},
   "outputs": [],
   "source": [
    "parquet_file_path = \"Predictions_23262763.parquet\""
   ]
  },
  {
   "cell_type": "code",
   "execution_count": 104,
   "id": "18b085f3",
   "metadata": {},
   "outputs": [],
   "source": [
    "output=pq.write_table(table, parquet_file_path)"
   ]
  },
  {
   "cell_type": "code",
   "execution_count": 105,
   "id": "09c20525",
   "metadata": {},
   "outputs": [],
   "source": [
    "output"
   ]
  },
  {
   "cell_type": "code",
   "execution_count": null,
   "id": "3fcbff9f",
   "metadata": {},
   "outputs": [],
   "source": []
  }
 ],
 "metadata": {
  "kernelspec": {
   "display_name": "Python 3 (ipykernel)",
   "language": "python",
   "name": "python3"
  },
  "language_info": {
   "codemirror_mode": {
    "name": "ipython",
    "version": 3
   },
   "file_extension": ".py",
   "mimetype": "text/x-python",
   "name": "python",
   "nbconvert_exporter": "python",
   "pygments_lexer": "ipython3",
   "version": "3.11.4"
  }
 },
 "nbformat": 4,
 "nbformat_minor": 5
}
